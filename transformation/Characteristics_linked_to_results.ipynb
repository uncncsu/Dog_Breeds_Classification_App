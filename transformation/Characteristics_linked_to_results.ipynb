{
 "cells": [
  {
   "cell_type": "markdown",
   "metadata": {},
   "source": [
    "# Dependencies and Setup"
   ]
  },
  {
   "cell_type": "code",
   "execution_count": 22,
   "metadata": {},
   "outputs": [],
   "source": [
    "import pandas as pd\n",
    "from sqlalchemy import create_engine\n",
    "import numpy as np\n",
    "import psycopg2"
   ]
  },
  {
   "cell_type": "markdown",
   "metadata": {},
   "source": [
    "# Extract (from csv's)"
   ]
  },
  {
   "cell_type": "code",
   "execution_count": 23,
   "metadata": {},
   "outputs": [],
   "source": [
    "#manually edited some naming conventions to ensure matching with csv of list used in ML\n",
    "# and inserted purchasing information when available and added missing breeds...\n",
    "#ie. icelandic sheepdog and irish red and white setter; altering some naming conventions\n",
    "# that matches both images and characteristics of the names used from the training source\n",
    "\n",
    "csv_file1 = \"../resources/dog_breed_characteristics_copy_droppedrows.csv\"\n",
    "characteristics = pd.read_csv(csv_file1)"
   ]
  },
  {
   "cell_type": "code",
   "execution_count": 24,
   "metadata": {},
   "outputs": [],
   "source": [
    "#retain relevant columns (ie drop malayasia and see where gaps are in intelligence)\n",
    "characteristics_subset = characteristics[[\"BreedName\", \"Group1\", \"Group2\", \"MaleWtKg\", \"Temperment\", \"AvgPupPrice\", \"Intelligence\", \"Watchdog\", \"PopularityUS2017\"]]"
   ]
  },
  {
   "cell_type": "code",
   "execution_count": 25,
   "metadata": {},
   "outputs": [],
   "source": [
    "#import csv of doglist to cross-check rows in BreedName column\n",
    "csv_file2 = \"../resources/dogbreedlist.csv\"\n",
    "doglist = pd.read_csv(csv_file2, skiprows=0, names=[\"BreedName\"])"
   ]
  },
  {
   "cell_type": "code",
   "execution_count": 26,
   "metadata": {},
   "outputs": [
    {
     "data": {
      "text/plain": [
       "<bound method DataFrame.count of                                                         BreedName\n",
       "Affenpinscher               NaN NaN NaN I   NaN NaN NaN       NaN\n",
       "Afghan_hound                NaN NaN NaN I   NaN NaN NaN       NaN\n",
       "Airedale_terrier            NaN NaN NaN I   NaN NaN NaN       NaN\n",
       "Akita                       NaN NaN NaN i   NaN NaN NaN       NaN\n",
       "Alaskan_malamute            NaN NaN NaN i   NaN NaN NaN       NaN\n",
       "...                                                           ...\n",
       "Tibetan_mastiff             NaN NaN NaN NaN NaN NaN NaN       NaN\n",
       "Welsh_springer_spaniel      NaN NaN NaN i   NaN NaN NaN       NaN\n",
       "Wirehaired_pointing_griffon NaN NaN NaN i   NaN NaN NaN       NaN\n",
       "Xoloitzcuintli              NaN NaN NaN NaN NaN NaN NaN       NaN\n",
       "Yorkshire_terrier           NaN NaN NaN i   NaN NaN NaN       NaN\n",
       "\n",
       "[133 rows x 1 columns]>"
      ]
     },
     "execution_count": 26,
     "metadata": {},
     "output_type": "execute_result"
    }
   ],
   "source": [
    "doglist.count"
   ]
  },
  {
   "cell_type": "code",
   "execution_count": 27,
   "metadata": {},
   "outputs": [
    {
     "data": {
      "text/plain": [
       "<bound method DataFrame.count of                        BreedName        Group1     Group2  MaleWtKg  \\\n",
       "0                  Affenpinscher           Toy  Companion         4   \n",
       "1                   Afghan_hound      Sporting      Sight        28   \n",
       "2               Airedale_terrier       Terrier    Terrier        26   \n",
       "3                          Akita       Working    Herding        44   \n",
       "4               Alaskan_malamute       Working   Northern        40   \n",
       "..                           ...           ...        ...       ...   \n",
       "128         Pembroke_welsh_corgi       Herding    Herding        12   \n",
       "129       Welsh_springer_spaniel      Sporting        Gun        18   \n",
       "130  Wirehaired_pointing_griffon      Sporting        Gun        25   \n",
       "131               Xoloitzcuintli  Non Sporting      Sight        11   \n",
       "132     Yorkshire_terrier_yorkie           Toy  Companion         3   \n",
       "\n",
       "                                            Temperment  AvgPupPrice  \\\n",
       "0    Active, Adventurous, Curious, Fun-loving, Play...       1000.0   \n",
       "1       Aloof, Clownish, Dignified, Happy, Independent       2250.0   \n",
       "2    Alert, Confident, Courageous, Friendly, Intell...        700.0   \n",
       "3    Alert, Courageous, Dignified, Docile, Friendly...       1000.0   \n",
       "4    Affectionate, Devoted, Dignified, Friendly, Lo...       1350.0   \n",
       "..                                                 ...          ...   \n",
       "128  Active, Affectionate, Alert, Companionable, De...       1100.0   \n",
       "129  Affectionate, Loyal, Active, Friendly, Playful...       1300.0   \n",
       "130  Gentle, Loyal, Proud, Trainable, Vigilant, Int...        700.0   \n",
       "131  Aleret, Calm, Cheerful, Companionable, Loyal, ...        700.0   \n",
       "132  Alert, Courageous, Energetic, Independent, Int...        800.0   \n",
       "\n",
       "     Intelligence  Watchdog  PopularityUS2017  \n",
       "0            37.0       1.0             147.0  \n",
       "1            79.0       1.0              93.0  \n",
       "2            29.0       4.0              55.0  \n",
       "3            54.0       5.0              47.0  \n",
       "4            50.0       5.0              59.0  \n",
       "..            ...       ...               ...  \n",
       "128          26.0       4.0              68.0  \n",
       "129          31.0       4.0             133.0  \n",
       "130          46.0       5.0              65.0  \n",
       "131           NaN       3.0             143.0  \n",
       "132          27.0       3.0               9.0  \n",
       "\n",
       "[133 rows x 9 columns]>"
      ]
     },
     "execution_count": 27,
     "metadata": {},
     "output_type": "execute_result"
    }
   ],
   "source": [
    "characteristics_subset.count"
   ]
  },
  {
   "cell_type": "code",
   "execution_count": 28,
   "metadata": {},
   "outputs": [],
   "source": [
    "characteristics_subset.to_csv(\"../resources/Breed_Characteristics.csv\")"
   ]
  },
  {
   "cell_type": "code",
   "execution_count": 29,
   "metadata": {},
   "outputs": [
    {
     "data": {
      "text/plain": [
       "BreedName            object\n",
       "Group1               object\n",
       "Group2               object\n",
       "MaleWtKg              int64\n",
       "Temperment           object\n",
       "AvgPupPrice         float64\n",
       "Intelligence        float64\n",
       "Watchdog            float64\n",
       "PopularityUS2017    float64\n",
       "dtype: object"
      ]
     },
     "execution_count": 29,
     "metadata": {},
     "output_type": "execute_result"
    }
   ],
   "source": [
    "characteristics_subset.dtypes"
   ]
  },
  {
   "cell_type": "code",
   "execution_count": null,
   "metadata": {},
   "outputs": [],
   "source": []
  }
 ],
 "metadata": {
  "kernelspec": {
   "display_name": "Python 3",
   "language": "python",
   "name": "python3"
  },
  "language_info": {
   "codemirror_mode": {
    "name": "ipython",
    "version": 3
   },
   "file_extension": ".py",
   "mimetype": "text/x-python",
   "name": "python",
   "nbconvert_exporter": "python",
   "pygments_lexer": "ipython3",
   "version": "3.7.1"
  }
 },
 "nbformat": 4,
 "nbformat_minor": 2
}
